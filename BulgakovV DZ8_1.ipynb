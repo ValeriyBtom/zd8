{
 "cells": [
  {
   "cell_type": "code",
   "execution_count": null,
   "id": "13a24b2e-775f-4e32-b0f8-402ead3a4e35",
   "metadata": {},
   "outputs": [],
   "source": [
    "import requests\n",
    "from requests import get\n",
    "\n",
    "for i in range(1,6):\n",
    "    response = requests.get(f'https://jsonplaceholder.typicode.com/posts/{i}')\n",
    "    response=response.json()\n",
    "    print(response)\n",
    "\n",
    "  "
   ]
  }
 ],
 "metadata": {
  "kernelspec": {
   "display_name": "Python 3 (ipykernel)",
   "language": "python",
   "name": "python3"
  },
  "language_info": {
   "codemirror_mode": {
    "name": "ipython",
    "version": 3
   },
   "file_extension": ".py",
   "mimetype": "text/x-python",
   "name": "python",
   "nbconvert_exporter": "python",
   "pygments_lexer": "ipython3",
   "version": "3.12.7"
  }
 },
 "nbformat": 4,
 "nbformat_minor": 5
}
