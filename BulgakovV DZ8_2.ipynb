{
 "cells": [
  {
   "cell_type": "code",
   "execution_count": 2,
   "id": "c49b11dd-e128-4f4d-b1dd-c7fbbeeb08d5",
   "metadata": {},
   "outputs": [
    {
     "name": "stdin",
     "output_type": "stream",
     "text": [
      "В каком городе узнать погоду: петербург\n"
     ]
    },
    {
     "name": "stdout",
     "output_type": "stream",
     "text": [
      "Температура в городе Новая Голландия : 0.9 град.цел., cкорость ветра 5 м/с, облачно\n"
     ]
    }
   ],
   "source": [
    "import requests\n",
    "from requests import get\n",
    "town = input(\"В каком городе узнать погоду:\")\n",
    "id_key = 'id_key' # необходимо добавить ключ от своей учетной записи\n",
    "respon_weather=requests.get(f'http://api.openweathermap.org/geo/1.0/direct?q={town}&limit=1&appid={id_key}')\n",
    "data_weather = respon_weather.json()  # Получаем данные в формате JSON\n",
    "lat_town=data_weather[0]['lat'] # широта города\n",
    "lon_town=data_weather[0]['lon'] #долгота города\n",
    "response = requests.get(f'https://api.openweathermap.org/data/2.5/weather?lat={lat_town}&lon={lon_town}&appid={id_key}&lang=ru')\n",
    "data = response.json()  # Получаем данные в формате JSON\n",
    "temp=(int(data[\"main\"][\"temp\"])-274.15) #значение температуры\n",
    "wind_speed=data[\"wind\"][\"speed\"]      # ветер\n",
    "clouds_out=int(data[\"clouds\"][\"all\"]) #облачность\n",
    "if clouds_out >= 50:\n",
    "    cloud_in_sky = 'облачно'\n",
    "elif clouds_out <=10:\n",
    "    cloud_in_sky = 'небо ясное'\n",
    "else:\n",
    "    cloud_in_sky = 'малооблачно'\n",
    "print(f'Температура в городе {data[\"name\"]} : {round(temp,1)} град.цел., cкорость ветра {wind_speed} м/с, {cloud_in_sky}')"
   ]
  }
 ],
 "metadata": {
  "kernelspec": {
   "display_name": "Python 3 (ipykernel)",
   "language": "python",
   "name": "python3"
  },
  "language_info": {
   "codemirror_mode": {
    "name": "ipython",
    "version": 3
   },
   "file_extension": ".py",
   "mimetype": "text/x-python",
   "name": "python",
   "nbconvert_exporter": "python",
   "pygments_lexer": "ipython3",
   "version": "3.12.7"
  }
 },
 "nbformat": 4,
 "nbformat_minor": 5
}
