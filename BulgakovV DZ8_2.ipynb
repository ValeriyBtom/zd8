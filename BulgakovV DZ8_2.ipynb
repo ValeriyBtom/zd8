{
 "cells": [
  {
   "cell_type": "code",
   "execution_count": null,
   "id": "c49b11dd-e128-4f4d-b1dd-c7fbbeeb08d5",
   "metadata": {},
   "outputs": [],
   "source": [
    "# Используйте API OpenWeather для получения данных о погоде\n",
    "#Напишите программу, которая\n",
    "#принимает название города от пользователя\n",
    "#отправляет GET-запрос к API и выводит текущую температуру и описание погоды."
   ]
  }
 ],
 "metadata": {
  "kernelspec": {
   "display_name": "Python 3 (ipykernel)",
   "language": "python",
   "name": "python3"
  },
  "language_info": {
   "codemirror_mode": {
    "name": "ipython",
    "version": 3
   },
   "file_extension": ".py",
   "mimetype": "text/x-python",
   "name": "python",
   "nbconvert_exporter": "python",
   "pygments_lexer": "ipython3",
   "version": "3.12.7"
  }
 },
 "nbformat": 4,
 "nbformat_minor": 5
}
